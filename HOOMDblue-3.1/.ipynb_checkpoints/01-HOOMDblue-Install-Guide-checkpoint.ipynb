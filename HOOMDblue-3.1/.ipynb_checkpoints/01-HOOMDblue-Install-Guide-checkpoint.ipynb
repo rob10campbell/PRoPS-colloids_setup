{
 "cells": [
  {
   "cell_type": "markdown",
   "id": "151ed91f-f33a-48a0-ac49-8f73479e1e99",
   "metadata": {
    "tags": []
   },
   "source": [
    "# HOOMD-blue Installation Guide\n",
    "\n",
    "This is a guide to installing [HOOMD-blue v3.1] and [OpenMPI] for running colloid simulations in the [PRoPS Group]. This implementation of HOOMD-blue is CPU only (no GPU components).\n",
    "\n",
    "This software is available for use on Discovery in the directory `/work/props/HOOMDblue/`\n",
    "\n",
    "This guide is optizimed for MacOS.\n",
    "\n",
    "[Last Update: May 2022]\n",
    "\n",
    "*HOOMD-blue v2.9 was adapted for colloids simulations by Mohammad (Nabi) Nabizadeh.* <br>\n",
    "*These modifications were updated for HOOMD-blue v3.0 and MPI by Dr. Deepak Mangal.* <br>\n",
    "*This guide was compiled by Rob Campbell.*\n",
    "\n",
    "[HOOMD-blue v3.1]: https://hoomd-blue.readthedocs.io/en/v3.1.0/index.html\n",
    "[OpenMPI]: https://www.open-mpi.org/\n",
    "[PRoPS Group]: https://web.northeastern.edu/complexfluids/"
   ]
  },
  {
   "cell_type": "markdown",
   "id": "4a21aa55-d032-44b5-88d4-0d135d897ed9",
   "metadata": {},
   "source": [
    "## Contents\n",
    "1. [Prerequisites](/01-HOOMDblue-Install-Guide.ipynb#prerequisites)\n",
    "2. [Setting Up Source Repositories](/01-HOOMDblue-Install-Guide.ipynb#setting-up-source-repositories)\n",
    "3. [Creating a Python Virtual Environment](/01-HOOMDblue-Install-Guide.ipynb#creating-a-python-virtual-environment)\n",
    "4. [Acquiring HOOMD-blue](/01-HOOMDblue-Install-Guide.ipynb#acquiring-hoomd-blue)\n",
    "5. [Installing HOOMD-blue](/01-HOOMDblue-Install-Guide.ipynb#installing-hoomd-blue)\n",
    "6. [Creating a Simulations Directory](/01-HOOMDblue-Install-Guide.ipynb#creating-a-simulations-directory)\n",
    "7. [Next Steps](/01-HOOMDblue-Install-Guide.ipynb#next-steps)\n",
    "<br>"
   ]
  },
  {
   "cell_type": "markdown",
   "id": "a18aa2d0-c3e0-4ee9-bcd4-1ea36810a34b",
   "metadata": {},
   "source": [
    "## Prerequisites\n",
    "\n",
    "Required for installation:\n",
    "* MacOS or Linux (this guide is optimized for MacOS)\n",
    "* C++17 capable compiler (HOOMD-blue v3.1 is tested with gcc 7, 8, 9, 10, 11, and clang 6, 7, 8, 9, 10, 11, 12, 13)\n",
    "* CMake >= 3.9\n",
    "* Eigen >= 3.2\n",
    "* pybind11 >= 2.2\n",
    "* Python >= 3.6\n",
    "* NumPy >= 1.7\n",
    "\n",
    "For MPI parallel execution\n",
    "* MPI (HOOMD-blue v3.1 is tested with OpenMPI, MVAPICH)\n",
    "* cereal >= 1.1\n",
    "\n",
    "Both clang and gcc should be included with Xcode on MacOS. MacOS also includes Python 2, but you will need to install Python 3 separately. Python 3 and the other prerequisites can be installed using [Homebrew](https://brew.sh/) or another package manager (NumPy and pybind11 are also easily installed for Python using pip, see note on virtual environments below). \n",
    "\n",
    "*Note: It is not recommended to install HOOMD-blue prerequisites with conda. See the* [HOOMD-blue](https://hoomd-blue.readthedocs.io/en/stable/installation.html) *installation page for advice on using conda.*"
   ]
  }
 ],
 "metadata": {
  "kernelspec": {
   "display_name": "Python 3 (ipykernel)",
   "language": "python",
   "name": "python3"
  },
  "language_info": {
   "codemirror_mode": {
    "name": "ipython",
    "version": 3
   },
   "file_extension": ".py",
   "mimetype": "text/x-python",
   "name": "python",
   "nbconvert_exporter": "python",
   "pygments_lexer": "ipython3",
   "version": "3.9.7"
  }
 },
 "nbformat": 4,
 "nbformat_minor": 5
}
